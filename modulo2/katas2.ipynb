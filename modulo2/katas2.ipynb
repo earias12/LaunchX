{
 "cells": [
  {
   "cell_type": "markdown",
   "metadata": {},
   "source": [
    "C:\\Users\\evely>env\\Scripts\\activate\n",
    "\n",
    "(env) C:\\Users\\evely>\n",
    "(env) C:\\Users\\evely>pip freeze\n",
    "\n",
    "(env) C:\\Users\\evely>pip install python-dateutil\n",
    "Collecting python-dateutil\n",
    "  Using cached python_dateutil-2.8.2-py2.py3-none-any.whl (247 kB)\n",
    "Collecting six>=1.5\n",
    "  Using cached six-1.16.0-py2.py3-none-any.whl (11 kB)\n",
    "Installing collected packages: six, python-dateutil\n",
    "Successfully installed python-dateutil-2.8.2 six-1.16.0\n",
    "WARNING: You are using pip version 21.2.4; however, version 22.0.3 is available.\n",
    "You should consider upgrading via the 'C:\\Users\\evely\\env\\Scripts\\python.exe -m pip install --upgrade pip' command.\n",
    "\n",
    "(env) C:\\Users\\evely>C:\\Users\\evely\\env\\Scripts\\python.exe -m pip install --upgrade pip\n",
    "Requirement already satisfied: pip in c:\\users\\evely\\env\\lib\\site-packages (21.2.4)\n",
    "Collecting pip\n",
    "  Using cached pip-22.0.3-py3-none-any.whl (2.1 MB)\n",
    "Installing collected packages: pip\n",
    "  Attempting uninstall: pip\n",
    "    Found existing installation: pip 21.2.4\n",
    "    Uninstalling pip-21.2.4:\n",
    "      Successfully uninstalled pip-21.2.4\n",
    "Successfully installed pip-22.0.3\n",
    "\n",
    "(env) C:\\Users\\evely>pip freeze\n",
    "python-dateutil==2.8.2\n",
    "six==1.16.0\n",
    "\n",
    "(env) C:\\Users\\evely>deactivate\n",
    "C:\\Users\\evely>"
   ]
  }
 ],
 "metadata": {
  "language_info": {
   "name": "python"
  },
  "orig_nbformat": 4
 },
 "nbformat": 4,
 "nbformat_minor": 2
}
