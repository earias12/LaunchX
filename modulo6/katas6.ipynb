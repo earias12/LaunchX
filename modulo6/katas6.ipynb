{
 "cells": [
  {
   "cell_type": "code",
   "execution_count": 9,
   "metadata": {},
   "outputs": [
    {
     "name": "stdout",
     "output_type": "stream",
     "text": [
      "tenemos 8 planetas\n",
      "plutón es el último planeta\n"
     ]
    }
   ],
   "source": [
    "planets= ['venus', 'marte', 'tierra', 'mercurio', 'jupiter', 'saturno', 'neptuno', 'urano']\n",
    "print('tenemos' , len(planets),  'planetas')\n",
    "\n",
    "planets.append('plutón')\n",
    "print(planets[-1], 'es el último planeta')\n"
   ]
  },
  {
   "cell_type": "code",
   "execution_count": 11,
   "metadata": {},
   "outputs": [
    {
     "name": "stdout",
     "output_type": "stream",
     "text": [
      "planetas mas cerca del sol que:  Mercurio\n",
      "[]\n",
      "planetas mas lejos del sol que:  Mercurio\n",
      "['Venus', 'Tierra', 'Marte', 'Jupiter', 'Saturno', 'Neptuno']\n"
     ]
    }
   ],
   "source": [
    "planets = ['Mercurio', 'Venus', 'Tierra', 'Marte', 'Jupiter', 'Saturno', 'Neptuno']\n",
    "opcion_planeta = input('ingrese nombre del planeta (con mayuscula)')\n",
    "index_planeta = planets.index(opcion_planeta)\n",
    "print('planetas mas cerca del sol que: ', opcion_planeta)\n",
    "print(planets[0:index_planeta])\n",
    "print('planetas mas lejos del sol que: ', opcion_planeta)\n",
    "print(planets[index_planeta + 1:])"
   ]
  }
 ],
 "metadata": {
  "interpreter": {
   "hash": "e922dd073470bdcc017ae3abd31d6491d6ed7bf31c1d559806e5511bfea88b81"
  },
  "kernelspec": {
   "display_name": "Python 3.10.2 64-bit",
   "language": "python",
   "name": "python3"
  },
  "language_info": {
   "codemirror_mode": {
    "name": "ipython",
    "version": 3
   },
   "file_extension": ".py",
   "mimetype": "text/x-python",
   "name": "python",
   "nbconvert_exporter": "python",
   "pygments_lexer": "ipython3",
   "version": "3.10.2"
  },
  "orig_nbformat": 4
 },
 "nbformat": 4,
 "nbformat_minor": 2
}
