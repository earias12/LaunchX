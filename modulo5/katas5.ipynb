{
 "cells": [
  {
   "cell_type": "code",
   "execution_count": 5,
   "metadata": {},
   "outputs": [
    {
     "name": "stdout",
     "output_type": "stream",
     "text": [
      "628949330\n",
      "390577533.93\n"
     ]
    }
   ],
   "source": [
    "primer_planeta = 149597870\n",
    "segundo_planeta = 778547200\n",
    "distancia_km = segundo_planeta - primer_planeta\n",
    "print(distancia_km)\n",
    "distancia_mi = distancia_km * 0.621\n",
    "print(distancia_mi)\n"
   ]
  },
  {
   "cell_type": "code",
   "execution_count": 11,
   "metadata": {},
   "outputs": [
    {
     "name": "stdout",
     "output_type": "stream",
     "text": [
      "distancia en km: -7669113\n",
      "distancia en millas: -4762519.173\n"
     ]
    }
   ],
   "source": [
    "primer_planeta = int(input('Introduzca la distancia del sol para el primer planeta km'))\n",
    "segundo_planeta = int(input('Introduzca la distancia desde el sol para el segundo planeta km'))\n",
    "distancia_km = segundo_planeta - primer_planeta\n",
    "print('distancia en km: ' + str(distancia_km))\n",
    "distancia_mi = distancia_km * 0.621\n",
    "print( 'distancia en millas: ' + str(distancia_mi))\n",
    "\n"
   ]
  }
 ],
 "metadata": {
  "interpreter": {
   "hash": "e922dd073470bdcc017ae3abd31d6491d6ed7bf31c1d559806e5511bfea88b81"
  },
  "kernelspec": {
   "display_name": "Python 3.10.2 64-bit",
   "language": "python",
   "name": "python3"
  },
  "language_info": {
   "codemirror_mode": {
    "name": "ipython",
    "version": 3
   },
   "file_extension": ".py",
   "mimetype": "text/x-python",
   "name": "python",
   "nbconvert_exporter": "python",
   "pygments_lexer": "ipython3",
   "version": "3.10.2"
  },
  "orig_nbformat": 4
 },
 "nbformat": 4,
 "nbformat_minor": 2
}
