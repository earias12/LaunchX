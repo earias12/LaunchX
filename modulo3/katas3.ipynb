{
 "cells": [
  {
   "cell_type": "markdown",
   "metadata": {},
   "source": [
    "# Asteroides ejercicios"
   ]
  },
  {
   "cell_type": "markdown",
   "metadata": {},
   "source": [
    "## Ejercicio 1"
   ]
  },
  {
   "cell_type": "code",
   "execution_count": 2,
   "metadata": {},
   "outputs": [
    {
     "name": "stdout",
     "output_type": "stream",
     "text": [
      "Aguas, viene un asteroide\n"
     ]
    }
   ],
   "source": [
    "asteroide = 49\n",
    "if asteroide > 25:\n",
    "    print('Aguas, viene un asteroide')\n",
    "else:\n",
    "    print('todo al cien')"
   ]
  },
  {
   "cell_type": "markdown",
   "metadata": {},
   "source": [
    "## Ejercicio 2"
   ]
  },
  {
   "cell_type": "code",
   "execution_count": 7,
   "metadata": {},
   "outputs": [
    {
     "name": "stdout",
     "output_type": "stream",
     "text": [
      "Mira lo que se puede ver en el cielo\n"
     ]
    }
   ],
   "source": [
    "asteroide = 19\n",
    "if asteroide >= 20:\n",
    "    print('Mira lo que se puede ver en el cielo')\n",
    "else:\n",
    "    print('No se ve nada')"
   ]
  },
  {
   "cell_type": "markdown",
   "metadata": {},
   "source": [
    "## Ejercicio 3"
   ]
  },
  {
   "cell_type": "code",
   "execution_count": 10,
   "metadata": {},
   "outputs": [
    {
     "name": "stdout",
     "output_type": "stream",
     "text": [
      "Cuidado viene un asteroide y puede destruir parte de la tierraaa\n"
     ]
    }
   ],
   "source": [
    "vel_asteroide= 24\n",
    "tamano_asteroide= 29\n",
    "if vel_asteroide >= 25 and tamano_asteroide >= 25:\n",
    "    print('Cuidado viene un asteroide y puede destruir parte de la tierraaa')\n",
    "elif tamano_asteroide < 25:\n",
    "    print('no hay nada de nada')\n",
    "elif vel_asteroide >=25:\n",
    "    print('mira, hay una luz en el cielo')\n",
    "else:\n",
    "    print('no hay nada de nada')"
   ]
  }
 ],
 "metadata": {
  "interpreter": {
   "hash": "e922dd073470bdcc017ae3abd31d6491d6ed7bf31c1d559806e5511bfea88b81"
  },
  "kernelspec": {
   "display_name": "Python 3.10.2 64-bit",
   "language": "python",
   "name": "python3"
  },
  "language_info": {
   "codemirror_mode": {
    "name": "ipython",
    "version": 3
   },
   "file_extension": ".py",
   "mimetype": "text/x-python",
   "name": "python",
   "nbconvert_exporter": "python",
   "pygments_lexer": "ipython3",
   "version": "3.10.2"
  },
  "orig_nbformat": 4
 },
 "nbformat": 4,
 "nbformat_minor": 2
}
